{
 "cells": [
  {
   "cell_type": "markdown",
   "metadata": {},
   "source": [
    "# Laboratorio 6\n",
    "## Análisis de paquetes de red\n",
    "Universidad del Valle de Guatemala <br>\n",
    "Security Data Science <br>\n",
    "Pablo Andrés Zamora Vásquez <br>\n",
    "Carné 21780"
   ]
  },
  {
   "cell_type": "code",
   "execution_count": null,
   "metadata": {},
   "outputs": [],
   "source": [
    "from scapy.all import sniff\n",
    "from scapy.all import rdpcap\n",
    "import pandas as pd\n",
    "import numpy as np\n",
    "import matplotlib.pyplot as plt"
   ]
  },
  {
   "cell_type": "markdown",
   "metadata": {},
   "source": [
    "## Preámbulo"
   ]
  },
  {
   "cell_type": "markdown",
   "metadata": {},
   "source": [
    "### 1. Instale la librería scapy\n",
    "### 3. Verifique que la herramienta fue correctamente instalada:"
   ]
  },
  {
   "cell_type": "markdown",
   "metadata": {},
   "source": [
    "*a. Capture 25 paquetes de su red doméstica (no de la red de la UVG) y asígnelos a una variable.*\n",
    "\n",
    "*b. Imprima el tipo de variable, la longitud y el contenido de la variable.*\n",
    "\n",
    "*c. Imprima el tipo de dato del primer paquete capturado.*\n",
    "\n",
    "*d. Imprima el contenido de 5 paquetes.*"
   ]
  },
  {
   "cell_type": "code",
   "execution_count": null,
   "metadata": {},
   "outputs": [
    {
     "name": "stdout",
     "output_type": "stream",
     "text": [
      "Tipo de 'paquetes': <class 'scapy.plist.PacketList'>\n",
      "Número de paquetes capturados: 25\n",
      "Tipo del primer paquete: <class 'scapy.layers.l2.Ether'>\n",
      "\n",
      "Contenido de los primeros 5 paquetes:\n",
      "Ether / IP / TCP 192.168.1.57:58269 > 192.168.1.16:8009 PA / Raw\n",
      "Ether / IP / TCP 192.168.1.16:8009 > 192.168.1.57:58269 PA / Raw\n",
      "Ether / IP / TCP 192.168.1.57:58269 > 192.168.1.16:8009 A\n",
      "Ether / IPv6 / UDP 2800:98:1612:8d0:2d7f:a702:f2f1:fb37:59182 > 2607:f8b0:4008:806::200e:https / Raw\n",
      "Ether / IPv6 / UDP 2800:98:1612:8d0:2d7f:a702:f2f1:fb37:59182 > 2607:f8b0:4008:806::200e:https / Raw\n"
     ]
    }
   ],
   "source": [
    "# Capturar 25 paquetes\n",
    "packets = sniff(count=25)\n",
    "\n",
    "# Imprimir el tipo de variable, su longitud y algunos contenidos\n",
    "print(\"Tipo de 'paquetes':\", type(packets))\n",
    "print(\"Número de paquetes capturados:\", len(packets))\n",
    "\n",
    "# Tipo de dato del primer paquete\n",
    "print(\"Tipo del primer paquete:\", type(packets[0]))\n",
    "\n",
    "# Imprimir el resumen de 5 paquetes\n",
    "print('\\nContenido de los primeros 5 paquetes:')\n",
    "for pkt in packets[:5]:\n",
    "    print(pkt.summary())\n"
   ]
  },
  {
   "cell_type": "markdown",
   "metadata": {},
   "source": [
    "## Análisis estadístico"
   ]
  },
  {
   "cell_type": "markdown",
   "metadata": {},
   "source": [
    "### 1. Descargue e archivo analisis_paquetes.pcap y asignelo a una variable"
   ]
  },
  {
   "cell_type": "code",
   "execution_count": null,
   "metadata": {},
   "outputs": [
    {
     "name": "stdout",
     "output_type": "stream",
     "text": [
      "Número de paquetes en el PCAP: 62\n"
     ]
    }
   ],
   "source": [
    "packets_pcap = rdpcap(\"analisis_paquetes.pcap\")\n",
    "print(\"Número de paquetes en el PCAP:\", len(packets_pcap))"
   ]
  },
  {
   "cell_type": "markdown",
   "metadata": {},
   "source": [
    "### 2. Convierta la variable a un DataFrame."
   ]
  },
  {
   "cell_type": "code",
   "execution_count": null,
   "metadata": {},
   "outputs": [],
   "source": [
    "data = []\n",
    "for pkt in packets_pcap:\n",
    "    # Verificar si el paquete tiene capa IP\n",
    "    if pkt.haslayer(\"IP\"):\n",
    "        src = pkt[\"IP\"].src\n",
    "        dst = pkt[\"IP\"].dst\n",
    "        \n",
    "        # Inicializar los puertos a None\n",
    "        src_port = None\n",
    "        dst_port = None\n",
    "        \n",
    "        # Verificar si el paquete tiene capa TCP o UDP\n",
    "        if pkt.haslayer(\"TCP\"):\n",
    "            src_port = pkt[\"TCP\"].sport\n",
    "            dst_port = pkt[\"TCP\"].dport\n",
    "        elif pkt.haslayer(\"UDP\"):\n",
    "            src_port = pkt[\"UDP\"].sport\n",
    "            dst_port = pkt[\"UDP\"].dport\n",
    "        \n",
    "        # Convertir el payload a bytes y obtener su longitud\n",
    "        payload_bytes = bytes(pkt.payload)\n",
    "        payload_len = len(payload_bytes)\n",
    "        \n",
    "        timestamp = pkt.time\n",
    "        \n",
    "        data.append({\n",
    "            \"src\": src,\n",
    "            \"dst\": dst,\n",
    "            \"src_port\": src_port,\n",
    "            \"dst_port\": dst_port,\n",
    "            \"payload\": payload_bytes,\n",
    "            'payload_legible': payload_bytes.decode(errors='ignore'),\n",
    "            \"payload_len\": payload_len,\n",
    "            \"time\": timestamp\n",
    "        })\n",
    "\n",
    "df = pd.DataFrame(data)\n"
   ]
  },
  {
   "cell_type": "markdown",
   "metadata": {},
   "source": [
    "### 3. Muestre el contenido de las primeras 5 filas del dataset."
   ]
  },
  {
   "cell_type": "code",
   "execution_count": 54,
   "metadata": {},
   "outputs": [
    {
     "name": "stdout",
     "output_type": "stream",
     "text": [
      "           src          dst  src_port  dst_port  \\\n",
      "0   10.1.10.53  84.54.22.33        53        53   \n",
      "1  84.54.22.33   10.1.10.53        53        53   \n",
      "2   10.1.10.53  84.54.22.33        53        53   \n",
      "3  84.54.22.33   10.1.10.53        53        53   \n",
      "4   10.1.10.53  84.54.22.33        53        53   \n",
      "\n",
      "                                             payload  \\\n",
      "0  b'E\\x00\\x03\\xc1\\x00\\x01\\x00\\x00@\\x11R\\xe6\\n\\x0...   \n",
      "1  b\"E \\x00T\\xe6'\\x00\\x00z\\x116\\x0cT6\\x16!\\n\\x01\\...   \n",
      "2  b'E\\x00\\x03\\xcf\\x00\\x01\\x00\\x00@\\x11R\\xd8\\n\\x0...   \n",
      "3  b\"E \\x00T\\xe8e\\x00\\x00z\\x113\\xceT6\\x16!\\n\\x01\\...   \n",
      "4  b'E\\x00\\x03\\xf4\\x00\\x01\\x00\\x00@\\x11R\\xb3\\n\\x0...   \n",
      "\n",
      "                                     payload_legible  payload_len  \\\n",
      "0  E\u0000\u0003\u0000\u0001\u0000\u0000@\u0011R\\n\u0001\\n5T6\u0016!\u00005\u00005\u0003\u000e\u0000\f\u0001\u0000\u0000\u0001\u0000\u0000\u0000\u0000\u0000\u0000\u0006google\u0003...          961   \n",
      "1  E \u0000T'\u0000\u0000z\u00116\fT6\u0016!\\n\u0001\\n5\u00005\u00005\u0000@%\u0000\f\u0000\u0001\u0000\u0001\u0000\u0000\u0000\u0000\u0006google\u0003...           84   \n",
      "2  E\u0000\u0003\u0000\u0001\u0000\u0000@\u0011R\\n\u0001\\n5T6\u0016!\u00005\u00005\u0003\u001a\u0000\f\u0001\u0000\u0000\u0001\u0000\u0000\u0000\u0000\u0000\u0000\u0006google\u0003...          975   \n",
      "3  E \u0000Te\u0000\u0000z\u00113T6\u0016!\\n\u0001\\n5\u00005\u00005\u0000@'\u0000\f\u0000\u0001\u0000\u0001\u0000\u0000\u0000\u0000\u0006google\u0003c...           84   \n",
      "4  E\u0000\u0003\u0000\u0001\u0000\u0000@\u0011R\\n\u0001\\n5T6\u0016!\u00005\u00005\u0003f\u0000\f\u0001\u0000\u0000\u0001\u0000\u0000\u0000\u0000\u0000\u0000\u0006google\u0003...         1012   \n",
      "\n",
      "                time  \n",
      "0  1532199330.917674  \n",
      "1  1532199330.950107  \n",
      "2  1532199331.937777  \n",
      "3  1532199331.956635  \n",
      "4  1532199332.960504  \n"
     ]
    }
   ],
   "source": [
    "# Mostrar las primeras 5 filas\n",
    "print(df.head())"
   ]
  },
  {
   "cell_type": "markdown",
   "metadata": {},
   "source": [
    "### 4. Muestre los valores de las columnas: Src Addres, Dst Address, Src Port y Dst Port"
   ]
  },
  {
   "cell_type": "code",
   "execution_count": 56,
   "metadata": {},
   "outputs": [
    {
     "name": "stdout",
     "output_type": "stream",
     "text": [
      "            src          dst  src_port  dst_port\n",
      "0    10.1.10.53  84.54.22.33        53        53\n",
      "1   84.54.22.33   10.1.10.53        53        53\n",
      "2    10.1.10.53  84.54.22.33        53        53\n",
      "3   84.54.22.33   10.1.10.53        53        53\n",
      "4    10.1.10.53  84.54.22.33        53        53\n",
      "..          ...          ...       ...       ...\n",
      "57  84.54.22.33   10.1.10.53        53        53\n",
      "58   10.1.10.53  84.54.22.33        53        53\n",
      "59  84.54.22.33   10.1.10.53        53        53\n",
      "60   10.1.10.53  84.54.22.33        53        53\n",
      "61  84.54.22.33   10.1.10.53        53        53\n",
      "\n",
      "[62 rows x 4 columns]\n"
     ]
    }
   ],
   "source": [
    "# Mostrar columnas de interés\n",
    "print(df[[\"src\", \"dst\", \"src_port\", \"dst_port\"]])"
   ]
  },
  {
   "cell_type": "markdown",
   "metadata": {},
   "source": [
    "### 5. Estadísticas"
   ]
  },
  {
   "cell_type": "markdown",
   "metadata": {},
   "source": [
    "*a. Muestre todas las IP origen*\n",
    "\n",
    "*b. Muestre todas las IP destino*"
   ]
  },
  {
   "cell_type": "code",
   "execution_count": 57,
   "metadata": {},
   "outputs": [
    {
     "name": "stdout",
     "output_type": "stream",
     "text": [
      "IPs Origen: ['10.1.10.53' '84.54.22.33' '75.75.75.75']\n",
      "IPs Destino: ['84.54.22.33' '10.1.10.53' '75.75.75.75']\n"
     ]
    }
   ],
   "source": [
    "src_ips = df[\"src\"].unique()\n",
    "print(\"IPs Origen:\", src_ips)\n",
    "\n",
    "dst_ips = df[\"dst\"].unique()\n",
    "print(\"IPs Destino:\", dst_ips)\n"
   ]
  },
  {
   "cell_type": "markdown",
   "metadata": {},
   "source": [
    "*c. ¿Cuál es la IP origen más frecuente?*\n",
    "\n",
    "*i. ¿A qué IP destino se comunica con más frecuencia?*<br>\n",
    "*ii. ¿A que puerto destino se comunica? ¿Cuál es el propósito de este puerto?*<br>\n",
    "*iii. ¿Desde que puertos origen se comunica?*<br>"
   ]
  },
  {
   "cell_type": "code",
   "execution_count": 58,
   "metadata": {},
   "outputs": [
    {
     "name": "stdout",
     "output_type": "stream",
     "text": [
      "La IP origen más frecuente es: 10.1.10.53\n",
      "La IP destino con la que más se comunica 10.1.10.53 es: 84.54.22.33\n",
      "El puerto destino más frecuente es: 53\n",
      "Puertos origen desde los que se comunica: [   53 15812 23903]\n"
     ]
    }
   ],
   "source": [
    "most_frequent_src_ip = df[\"src\"].value_counts().idxmax()\n",
    "print(\"La IP origen más frecuente es:\", most_frequent_src_ip)\n",
    "\n",
    "df_ip = df[df[\"src\"] == most_frequent_src_ip]\n",
    "most_frequent_dst_ip = df_ip[\"dst\"].value_counts().idxmax()\n",
    "print(\"La IP destino con la que más se comunica\", most_frequent_src_ip, \"es:\", most_frequent_dst_ip)\n",
    "\n",
    "most_frequent_dst_port = df_ip[\"dst_port\"].value_counts().idxmax()\n",
    "print(\"El puerto destino más frecuente es:\", most_frequent_dst_port)\n",
    "\n",
    "src_ports = df_ip[\"src_port\"].unique()\n",
    "print(\"Puertos origen desde los que se comunica:\", src_ports)"
   ]
  },
  {
   "cell_type": "markdown",
   "metadata": {},
   "source": [
    "### 6. Gráficas"
   ]
  },
  {
   "cell_type": "markdown",
   "metadata": {},
   "source": [
    "*a. Genere una gráfica de barras 2D horizontales, en el eje Y las IPs origen, y en el eje X la suma de los payloads (bytes) enviados desde dichas direcciones*"
   ]
  },
  {
   "cell_type": "code",
   "execution_count": null,
   "metadata": {},
   "outputs": [
    {
     "data": {
      "image/png": "[encoded data removed]",
      "text/plain": [
       "<Figure size 640x480 with 1 Axes>"
      ]
     },
     "metadata": {},
     "output_type": "display_data"
    }
   ],
   "source": [
    "# a) Gráfica: IPs origen vs suma de payloads enviados\n",
    "src_payloads_sum = df.groupby(\"src\")[\"payload_len\"].sum().sort_values()\n",
    "plt.figure()\n",
    "src_payloads_sum.plot(kind=\"barh\")\n",
    "plt.xlabel(\"Suma de payloads (bytes)\")\n",
    "plt.ylabel(\"IP Origen\")\n",
    "plt.title(\"Payload enviado por IP Origen\")\n",
    "plt.show()"
   ]
  },
  {
   "cell_type": "markdown",
   "metadata": {},
   "source": [
    "*b. Genere una gráfica de barras 2D horizontales, en el eje Y las IP destino, y en el eje X la suma de los payloads (bytes) recibidos en dichas direcciones*"
   ]
  },
  {
   "cell_type": "code",
   "execution_count": 36,
   "metadata": {},
   "outputs": [
    {
     "data": {
      "image/png": "[encoded data removed]",
      "text/plain": [
       "<Figure size 640x480 with 1 Axes>"
      ]
     },
     "metadata": {},
     "output_type": "display_data"
    }
   ],
   "source": [
    "# b) Gráfica: IPs destino vs suma de payloads recibidos\n",
    "dst_payloads_sum = df.groupby(\"dst\")[\"payload_len\"].sum().sort_values()\n",
    "plt.figure()\n",
    "dst_payloads_sum.plot(kind=\"barh\")\n",
    "plt.xlabel(\"Suma de payloads (bytes)\")\n",
    "plt.ylabel(\"IP Destino\")\n",
    "plt.title(\"Payload recibido por IP Destino\")\n",
    "plt.show()"
   ]
  },
  {
   "cell_type": "markdown",
   "metadata": {},
   "source": [
    "*c. Genere una gráfica de barras 2D horizontales, en el eje Y los puertos origen, y en el eje X la suma de los payloads (bytes) enviados de dichos puertos.*"
   ]
  },
  {
   "cell_type": "code",
   "execution_count": 37,
   "metadata": {},
   "outputs": [
    {
     "data": {
      "image/png": "[encoded data removed]",
      "text/plain": [
       "<Figure size 640x480 with 1 Axes>"
      ]
     },
     "metadata": {},
     "output_type": "display_data"
    }
   ],
   "source": [
    "# c) Gráfica: Puertos origen vs suma de payloads enviados\n",
    "src_ports_payload_sum = df.groupby(\"src_port\")[\"payload_len\"].sum().sort_values()\n",
    "plt.figure()\n",
    "src_ports_payload_sum.plot(kind=\"barh\")\n",
    "plt.xlabel(\"Suma de payloads (bytes)\")\n",
    "plt.ylabel(\"Puerto Origen\")\n",
    "plt.title(\"Payload enviado por Puerto Origen\")\n",
    "plt.show()"
   ]
  },
  {
   "cell_type": "markdown",
   "metadata": {},
   "source": [
    "*d. Genere una gráfica 2D de barras horizontales, en el eje Y los puertos destino, y en el eje X la suma de los payloads (bytes) recibidos en dichos puertos.*"
   ]
  },
  {
   "cell_type": "code",
   "execution_count": 38,
   "metadata": {},
   "outputs": [
    {
     "data": {
      "image/png": "[encoded data removed]",
      "text/plain": [
       "<Figure size 640x480 with 1 Axes>"
      ]
     },
     "metadata": {},
     "output_type": "display_data"
    }
   ],
   "source": [
    "# d) Gráfica: Puertos destino vs suma de payloads recibidos\n",
    "dst_ports_payloads_sum = df.groupby(\"dst_port\")[\"payload_len\"].sum().sort_values()\n",
    "plt.figure()\n",
    "dst_ports_payloads_sum.plot(kind=\"barh\")\n",
    "plt.xlabel(\"Suma de payloads (bytes)\")\n",
    "plt.ylabel(\"Puerto Destino\")\n",
    "plt.title(\"Payload recibido por Puerto Destino\")\n",
    "plt.show()"
   ]
  },
  {
   "cell_type": "markdown",
   "metadata": {},
   "source": [
    "*e. Genere una gráfica de barras 2D verticales, en el eje Y la suma de los payload, en el eje X el tiempo, para la IP origen más frecuente.*"
   ]
  },
  {
   "cell_type": "code",
   "execution_count": 39,
   "metadata": {},
   "outputs": [
    {
     "data": {
      "image/png": "[encoded data removed]",
      "text/plain": [
       "<Figure size 640x480 with 1 Axes>"
      ]
     },
     "metadata": {},
     "output_type": "display_data"
    }
   ],
   "source": [
    "# e) Gráfica: Para la IP origen más frecuente, payload vs tiempo\n",
    "df_ip_mas = df[df[\"src\"] == most_frequent_src_ip]\n",
    "# Ordenar por tiempo\n",
    "df_ip_mas = df_ip_mas.sort_values(\"time\")\n",
    "plt.figure()\n",
    "plt.bar(df_ip_mas[\"time\"], df_ip_mas[\"payload_len\"])\n",
    "plt.xlabel(\"Tiempo\")\n",
    "plt.ylabel(\"Payload (bytes)\")\n",
    "plt.title(\"Payload a lo largo del tiempo para \" + most_frequent_src_ip)\n",
    "plt.show()"
   ]
  },
  {
   "cell_type": "markdown",
   "metadata": {},
   "source": [
    "*f. Utilizando la información de las estadísticas y la información del comportamiento del tráfico que las gráficas muestran, describa que es lo que está sucediendo. ¿Es común el comportamiento?*\n",
    "\n",
    "No, el comportamiento es **anormal**, ya que las gráficas anteriores demuestran que el payload total enviado por la IP de origen \"10.1.10.53\" y recibido por la IP destino \"84.54.22.33\" es **mucho mayor** al payload enviado y recibido entre las demás IPs.\n",
    "\n",
    "Además, puede notarse fácilmente que casi todos estos paquetes son enviados y recibidos por el **puerto 53**, el cual es el asignado al protocolo **DNS**, utilizado para la resolución de nombres de dominio a direcciones IP. Por tanto, un volumen de tráfico DNS excepcionalmente alto para este puerto podría ser señal de que se está utilizando el DNS para otros fines, como tunneling (exfiltración de datos) o algún otro tipo de actividad maliciosa.\n",
    "\n",
    "Finalmente, la gráfica que muestra el payload a lo largo del tiempo para la IP más activa, \"10.1.10.53\", indica que se mantuvo un pico **sostenido** de comunicación durante un **tiempo significativo**, lo cual no es usual para el protocolo DNS asignado al puerto 53, ya que, en circusntancias normales el tráfico que pasa por este debería fluctúar."
   ]
  },
  {
   "cell_type": "markdown",
   "metadata": {},
   "source": [
    "### 7. Investigación del payload"
   ]
  },
  {
   "cell_type": "markdown",
   "metadata": {},
   "source": [
    "*a. Cree un nuevo DF que incluya únicamente las conexiones con la dirección IP origen más frecuente.*"
   ]
  },
  {
   "cell_type": "code",
   "execution_count": 59,
   "metadata": {},
   "outputs": [],
   "source": [
    "df_frequent_ip = df[df[\"src\"] == most_frequent_src_ip]"
   ]
  },
  {
   "cell_type": "markdown",
   "metadata": {},
   "source": [
    "*b. Cree un nuevo DF que utilice el DF anterior con las columnas src, dst y payload y agrúpelas por dst y la suma del payload,*"
   ]
  },
  {
   "cell_type": "code",
   "execution_count": 60,
   "metadata": {},
   "outputs": [
    {
     "name": "stdout",
     "output_type": "stream",
     "text": [
      "           dst  payload_len\n",
      "0  75.75.75.75          130\n",
      "1  84.54.22.33        28791\n"
     ]
    }
   ],
   "source": [
    "grouped_df = df_frequent_ip.groupby(\"dst\")[\"payload_len\"].sum().reset_index()\n",
    "print(grouped_df)"
   ]
  },
  {
   "cell_type": "markdown",
   "metadata": {},
   "source": [
    "*c. Obtenga la IP destino que más ha intercambiado bytes con la IP más frecuente. Esta IP es sospechosa por la cantidad de bytes intercambiados, entre todas las direcciones*"
   ]
  },
  {
   "cell_type": "code",
   "execution_count": 61,
   "metadata": {},
   "outputs": [
    {
     "name": "stdout",
     "output_type": "stream",
     "text": [
      "La IP destino sospechosa es: 84.54.22.33\n"
     ]
    }
   ],
   "source": [
    "suspicious_ip = grouped_df.sort_values(\"payload_len\", ascending=False).iloc[0][\"dst\"]\n",
    "print(\"La IP destino sospechosa es:\", suspicious_ip)"
   ]
  },
  {
   "cell_type": "markdown",
   "metadata": {},
   "source": [
    "*d. Cree un nuevo DF con la conversación entre la IP más frecuente y la IP sospechosa*"
   ]
  },
  {
   "cell_type": "code",
   "execution_count": 62,
   "metadata": {},
   "outputs": [
    {
     "name": "stdout",
     "output_type": "stream",
     "text": [
      "           src          dst  src_port  dst_port  \\\n",
      "0   10.1.10.53  84.54.22.33        53        53   \n",
      "2   10.1.10.53  84.54.22.33        53        53   \n",
      "4   10.1.10.53  84.54.22.33        53        53   \n",
      "6   10.1.10.53  84.54.22.33        53        53   \n",
      "8   10.1.10.53  84.54.22.33        53        53   \n",
      "10  10.1.10.53  84.54.22.33        53        53   \n",
      "12  10.1.10.53  84.54.22.33        53        53   \n",
      "14  10.1.10.53  84.54.22.33        53        53   \n",
      "16  10.1.10.53  84.54.22.33        53        53   \n",
      "18  10.1.10.53  84.54.22.33        53        53   \n",
      "20  10.1.10.53  84.54.22.33        53        53   \n",
      "26  10.1.10.53  84.54.22.33        53        53   \n",
      "28  10.1.10.53  84.54.22.33        53        53   \n",
      "30  10.1.10.53  84.54.22.33        53        53   \n",
      "32  10.1.10.53  84.54.22.33        53        53   \n",
      "34  10.1.10.53  84.54.22.33        53        53   \n",
      "36  10.1.10.53  84.54.22.33        53        53   \n",
      "38  10.1.10.53  84.54.22.33        53        53   \n",
      "40  10.1.10.53  84.54.22.33        53        53   \n",
      "42  10.1.10.53  84.54.22.33        53        53   \n",
      "44  10.1.10.53  84.54.22.33        53        53   \n",
      "46  10.1.10.53  84.54.22.33        53        53   \n",
      "48  10.1.10.53  84.54.22.33        53        53   \n",
      "50  10.1.10.53  84.54.22.33        53        53   \n",
      "52  10.1.10.53  84.54.22.33        53        53   \n",
      "54  10.1.10.53  84.54.22.33        53        53   \n",
      "56  10.1.10.53  84.54.22.33        53        53   \n",
      "58  10.1.10.53  84.54.22.33        53        53   \n",
      "60  10.1.10.53  84.54.22.33        53        53   \n",
      "\n",
      "                                              payload  \\\n",
      "0   b'E\\x00\\x03\\xc1\\x00\\x01\\x00\\x00@\\x11R\\xe6\\n\\x0...   \n",
      "2   b'E\\x00\\x03\\xcf\\x00\\x01\\x00\\x00@\\x11R\\xd8\\n\\x0...   \n",
      "4   b'E\\x00\\x03\\xf4\\x00\\x01\\x00\\x00@\\x11R\\xb3\\n\\x0...   \n",
      "6   b'E\\x00\\x03\\xe6\\x00\\x01\\x00\\x00@\\x11R\\xc1\\n\\x0...   \n",
      "8   b'E\\x00\\x03\\xeb\\x00\\x01\\x00\\x00@\\x11R\\xbc\\n\\x0...   \n",
      "10  b'E\\x00\\x04\\x15\\x00\\x01\\x00\\x00@\\x11R\\x92\\n\\x0...   \n",
      "12  b'E\\x00\\x03\\xf0\\x00\\x01\\x00\\x00@\\x11R\\xb7\\n\\x0...   \n",
      "14  b'E\\x00\\x03\\xd3\\x00\\x01\\x00\\x00@\\x11R\\xd4\\n\\x0...   \n",
      "16  b'E\\x00\\x03\\xbf\\x00\\x01\\x00\\x00@\\x11R\\xe8\\n\\x0...   \n",
      "18  b'E\\x00\\x03\\xe0\\x00\\x01\\x00\\x00@\\x11R\\xc7\\n\\x0...   \n",
      "20  b'E\\x00\\x04\\x1b\\x00\\x01\\x00\\x00@\\x11R\\x8c\\n\\x0...   \n",
      "26  b'E\\x00\\x03\\xee\\x00\\x01\\x00\\x00@\\x11R\\xb9\\n\\x0...   \n",
      "28  b'E\\x00\\x03\\xda\\x00\\x01\\x00\\x00@\\x11R\\xcd\\n\\x0...   \n",
      "30  b'E\\x00\\x03\\xec\\x00\\x01\\x00\\x00@\\x11R\\xbb\\n\\x0...   \n",
      "32  b'E\\x00\\x04\\r\\x00\\x01\\x00\\x00@\\x11R\\x9a\\n\\x01\\...   \n",
      "34  b'E\\x00\\x03\\xec\\x00\\x01\\x00\\x00@\\x11R\\xbb\\n\\x0...   \n",
      "36  b'E\\x00\\x04\\x0f\\x00\\x01\\x00\\x00@\\x11R\\x98\\n\\x0...   \n",
      "38  b\"E\\x00\\x04\\r\\x00\\x01\\x00\\x00@\\x11R\\x9a\\n\\x01\\...   \n",
      "40  b'E\\x00\\x04\\x0b\\x00\\x01\\x00\\x00@\\x11R\\x9c\\n\\x0...   \n",
      "42  b'E\\x00\\x03\\xf2\\x00\\x01\\x00\\x00@\\x11R\\xb5\\n\\x0...   \n",
      "44  b'E\\x00\\x03\\xee\\x00\\x01\\x00\\x00@\\x11R\\xb9\\n\\x0...   \n",
      "46  b'E\\x00\\x03\\xee\\x00\\x01\\x00\\x00@\\x11R\\xb9\\n\\x0...   \n",
      "48  b'E\\x00\\x03\\xf5\\x00\\x01\\x00\\x00@\\x11R\\xb2\\n\\x0...   \n",
      "50  b'E\\x00\\x03\\xfb\\x00\\x01\\x00\\x00@\\x11R\\xac\\n\\x0...   \n",
      "52  b'E\\x00\\x03\\xed\\x00\\x01\\x00\\x00@\\x11R\\xba\\n\\x0...   \n",
      "54  b'E\\x00\\x03\\xf9\\x00\\x01\\x00\\x00@\\x11R\\xae\\n\\x0...   \n",
      "56  b'E\\x00\\x04\\x03\\x00\\x01\\x00\\x00@\\x11R\\xa4\\n\\x0...   \n",
      "58  b'E\\x00\\x03\\xc9\\x00\\x01\\x00\\x00@\\x11R\\xde\\n\\x0...   \n",
      "60  b'E\\x00\\x02L\\x00\\x01\\x00\\x00@\\x11T[\\n\\x01\\n5T6...   \n",
      "\n",
      "                                      payload_legible  payload_len  \\\n",
      "0   E\u0000\u0003\u0000\u0001\u0000\u0000@\u0011R\\n\u0001\\n5T6\u0016!\u00005\u00005\u0003\u000e\u0000\f\u0001\u0000\u0000\u0001\u0000\u0000\u0000\u0000\u0000\u0000\u0006google\u0003...          961   \n",
      "2   E\u0000\u0003\u0000\u0001\u0000\u0000@\u0011R\\n\u0001\\n5T6\u0016!\u00005\u00005\u0003\u001a\u0000\f\u0001\u0000\u0000\u0001\u0000\u0000\u0000\u0000\u0000\u0000\u0006google\u0003...          975   \n",
      "4   E\u0000\u0003\u0000\u0001\u0000\u0000@\u0011R\\n\u0001\\n5T6\u0016!\u00005\u00005\u0003f\u0000\f\u0001\u0000\u0000\u0001\u0000\u0000\u0000\u0000\u0000\u0000\u0006google\u0003...         1012   \n",
      "6   E\u0000\u0003\u0000\u0001\u0000\u0000@\u0011R\\n\u0001\\n5T6\u0016!\u00005\u00005\u0003#\u0000\f\u0001\u0000\u0000\u0001\u0000\u0000\u0000\u0000\u0000\u0000\u0006google\u0003...          998   \n",
      "8   E\u0000\u0003\u0000\u0001\u0000\u0000@\u0011R\\n\u0001\\n5T6\u0016!\u00005\u00005\u0003ה\u0000\f\u0001\u0000\u0000\u0001\u0000\u0000\u0000\u0000\u0000\u0000\u0006google\u0003...         1003   \n",
      "10  E\u0000\u0004\u0015\u0000\u0001\u0000\u0000@\u0011R\\n\u0001\\n5T6\u0016!\u00005\u00005\u0004\u0001\u0016K\u0000\f\u0001\u0000\u0000\u0001\u0000\u0000\u0000\u0000\u0000\u0000\u0006goog...         1045   \n",
      "12  E\u0000\u0003\u0000\u0001\u0000\u0000@\u0011R\\n\u0001\\n5T6\u0016!\u00005\u00005\u0003z&\u0000\f\u0001\u0000\u0000\u0001\u0000\u0000\u0000\u0000\u0000\u0000\u0006google...         1008   \n",
      "14  E\u0000\u0003\u0000\u0001\u0000\u0000@\u0011R\\n\u0001\\n5T6\u0016!\u00005\u00005\u0003-P\u0000\f\u0001\u0000\u0000\u0001\u0000\u0000\u0000\u0000\u0000\u0000\u0006google...          979   \n",
      "16  E\u0000\u0003\u0000\u0001\u0000\u0000@\u0011R\\n\u0001\\n5T6\u0016!\u00005\u00005\u0003\u001e\u0000\f\u0001\u0000\u0000\u0001\u0000\u0000\u0000\u0000\u0000\u0000\u0006google\u0003...          959   \n",
      "18  E\u0000\u0003\u0000\u0001\u0000\u0000@\u0011R\\n\u0001\\n5T6\u0016!\u00005\u00005\u0003V\u0000\f\u0001\u0000\u0000\u0001\u0000\u0000\u0000\u0000\u0000\u0000\u0006google\u0003...          992   \n",
      "20  E\u0000\u0004\u001b\u0000\u0001\u0000\u0000@\u0011R\\n\u0001\\n5T6\u0016!\u00005\u00005\u0004\u0007\\n\u0000\f\u0001\u0000\u0000\u0001\u0000\u0000\u0000\u0000\u0000\u0000\u0006goog...         1051   \n",
      "26  E\u0000\u0003\u0000\u0001\u0000\u0000@\u0011R\\n\u0001\\n5T6\u0016!\u00005\u00005\u0003y\u0000\f\u0001\u0000\u0000\u0001\u0000\u0000\u0000\u0000\u0000\u0000\u0006google\u0003...         1006   \n",
      "28  E\u0000\u0003\u0000\u0001\u0000\u0000@\u0011R\\n\u0001\\n5T6\u0016!\u00005\u00005\u0003>\u0000\f\u0001\u0000\u0000\u0001\u0000\u0000\u0000\u0000\u0000\u0000\u0006google\u0003...          986   \n",
      "30  E\u0000\u0003\u0000\u0001\u0000\u0000@\u0011R\\n\u0001\\n5T6\u0016!\u00005\u00005\u0003ش\u0000\f\u0001\u0000\u0000\u0001\u0000\u0000\u0000\u0000\u0000\u0000\u0006google\u0003...         1004   \n",
      "32  E\u0000\u0004\\r\u0000\u0001\u0000\u0000@\u0011R\\n\u0001\\n5T6\u0016!\u00005\u00005\u00038\u0018\u0000\f\u0001\u0000\u0000\u0001\u0000\u0000\u0000\u0000\u0000\u0000\u0006goog...         1037   \n",
      "34  E\u0000\u0003\u0000\u0001\u0000\u0000@\u0011R\\n\u0001\\n5T6\u0016!\u00005\u00005\u00034\u0000\f\u0001\u0000\u0000\u0001\u0000\u0000\u0000\u0000\u0000\u0000\u0006google\u0003...         1004   \n",
      "36  E\u0000\u0004\u000f\u0000\u0001\u0000\u0000@\u0011R\\n\u0001\\n5T6\u0016!\u00005\u00005\u0003~\u0000\f\u0001\u0000\u0000\u0001\u0000\u0000\u0000\u0000\u0000\u0000\u0006google...         1039   \n",
      "38  E\u0000\u0004\\r\u0000\u0001\u0000\u0000@\u0011R\\n\u0001\\n5T6\u0016!\u00005\u00005\u0003\u0013\u0000\f\u0001\u0000\u0000\u0001\u0000\u0000\u0000\u0000\u0000\u0000\u0006googl...         1037   \n",
      "40  E\u0000\u0004\u000b\u0000\u0001\u0000\u0000@\u0011R\\n\u0001\\n5T6\u0016!\u00005\u00005\u0003\u0000\f\u0001\u0000\u0000\u0001\u0000\u0000\u0000\u0000\u0000\u0000\u0006google\u0003...         1035   \n",
      "42  E\u0000\u0003\u0000\u0001\u0000\u0000@\u0011R\\n\u0001\\n5T6\u0016!\u00005\u00005\u0003ޱ\u0000\f\u0001\u0000\u0000\u0001\u0000\u0000\u0000\u0000\u0000\u0000\u0006google\u0003...         1010   \n",
      "44  E\u0000\u0003\u0000\u0001\u0000\u0000@\u0011R\\n\u0001\\n5T6\u0016!\u00005\u00005\u0003y\u0000\f\u0001\u0000\u0000\u0001\u0000\u0000\u0000\u0000\u0000\u0000\u0006google\u0003...         1006   \n",
      "46  E\u0000\u0003\u0000\u0001\u0000\u0000@\u0011R\\n\u0001\\n5T6\u0016!\u00005\u00005\u0003\f\u0000\f\u0001\u0000\u0000\u0001\u0000\u0000\u0000\u0000\u0000\u0000\u0006google\u0003...         1006   \n",
      "48  E\u0000\u0003\u0000\u0001\u0000\u0000@\u0011R\\n\u0001\\n5T6\u0016!\u00005\u00005\u0003\u0019\u0000\f\u0001\u0000\u0000\u0001\u0000\u0000\u0000\u0000\u0000\u0000\u0006google\u0003...         1013   \n",
      "50  E\u0000\u0003\u0000\u0001\u0000\u0000@\u0011R\\n\u0001\\n5T6\u0016!\u00005\u00005\u0003y\u0000\f\u0001\u0000\u0000\u0001\u0000\u0000\u0000\u0000\u0000\u0000\u0006google\u0003...         1019   \n",
      "52  E\u0000\u0003\u0000\u0001\u0000\u0000@\u0011R\\n\u0001\\n5T6\u0016!\u00005\u00005\u00037\u0000\f\u0001\u0000\u0000\u0001\u0000\u0000\u0000\u0000\u0000\u0000\u0006google\u0003...         1005   \n",
      "54  E\u0000\u0003\u0000\u0001\u0000\u0000@\u0011R\\n\u0001\\n5T6\u0016!\u00005\u00005\u00035\u0000\f\u0001\u0000\u0000\u0001\u0000\u0000\u0000\u0000\u0000\u0000\u0006google\u0003...         1017   \n",
      "56  E\u0000\u0004\u0003\u0000\u0001\u0000\u0000@\u0011R\\n\u0001\\n5T6\u0016!\u00005\u00005\u0003/\u0000\f\u0001\u0000\u0000\u0001\u0000\u0000\u0000\u0000\u0000\u0000\u0006google...         1027   \n",
      "58  E\u0000\u0003\u0000\u0001\u0000\u0000@\u0011R\\n\u0001\\n5T6\u0016!\u00005\u00005\u0003\u0002\u0000\f\u0001\u0000\u0000\u0001\u0000\u0000\u0000\u0000\u0000\u0000\u0006google\u0003...          969   \n",
      "60  E\u0000\u0002L\u0000\u0001\u0000\u0000@\u0011T[\\n\u0001\\n5T6\u0016!\u00005\u00005\u00028Ԇ\u0000\f\u0001\u0000\u0000\u0001\u0000\u0000\u0000\u0000\u0000\u0000\u0006goog...          588   \n",
      "\n",
      "                 time  \n",
      "0   1532199330.917674  \n",
      "2   1532199331.937777  \n",
      "4   1532199332.960504  \n",
      "6   1532199333.982248  \n",
      "8   1532199335.003376  \n",
      "10  1532199336.021501  \n",
      "12  1532199337.041202  \n",
      "14  1532199338.058108  \n",
      "16  1532199339.078320  \n",
      "18  1532199340.094091  \n",
      "20  1532199341.114699  \n",
      "26  1532199342.132537  \n",
      "28  1532199343.153571  \n",
      "30  1532199344.175057  \n",
      "32  1532199345.192632  \n",
      "34  1532199346.214431  \n",
      "36  1532199347.233872  \n",
      "38  1532199348.252542  \n",
      "40  1532199349.271787  \n",
      "42  1532199350.293494  \n",
      "44  1532199351.311700  \n",
      "46  1532199352.332264  \n",
      "48  1532199353.353065  \n",
      "50  1532199354.372890  \n",
      "52  1532199355.393694  \n",
      "54  1532199356.414539  \n",
      "56  1532199357.434928  \n",
      "58  1532199358.456765  \n",
      "60  1532199359.479115  \n"
     ]
    }
   ],
   "source": [
    "df_conversation = df[(df[\"src\"] == most_frequent_src_ip) & (df[\"dst\"] == suspicious_ip)]\n",
    "print(df_conversation)"
   ]
  },
  {
   "cell_type": "markdown",
   "metadata": {},
   "source": [
    "*e. Obtenga los payloads del DF del inciso anterior, y añada cada uno en un array.*"
   ]
  },
  {
   "cell_type": "code",
   "execution_count": null,
   "metadata": {},
   "outputs": [],
   "source": [
    "array_payloads = df_conversation[\"payload\"].tolist()\n",
    "\n",
    "array_payloads_legibles = df_conversation[\"payload_legible\"].tolist()"
   ]
  },
  {
   "cell_type": "markdown",
   "metadata": {},
   "source": [
    "*f. Muestre el contenido del array*\n",
    "\n",
    "*g. Observe los primeros bytes del contenido, ¿encuentra algún tipo de dato que no haga sentido que se envíe al puerto destino?*"
   ]
  },
  {
   "cell_type": "code",
   "execution_count": null,
   "metadata": {},
   "outputs": [
    {
     "name": "stdout",
     "output_type": "stream",
     "text": [
      "Payload 1 (primeros 20 bytes): b'E\\x00\\x03\\xc1\\x00\\x01\\x00\\x00@\\x11R\\xe6\\n\\x01\\n5T6\\x16!'\n",
      "Payload 2 (primeros 20 bytes): b'E\\x00\\x03\\xcf\\x00\\x01\\x00\\x00@\\x11R\\xd8\\n\\x01\\n5T6\\x16!'\n",
      "Payload 3 (primeros 20 bytes): b'E\\x00\\x03\\xf4\\x00\\x01\\x00\\x00@\\x11R\\xb3\\n\\x01\\n5T6\\x16!'\n",
      "Payload 4 (primeros 20 bytes): b'E\\x00\\x03\\xe6\\x00\\x01\\x00\\x00@\\x11R\\xc1\\n\\x01\\n5T6\\x16!'\n",
      "Payload 5 (primeros 20 bytes): b'E\\x00\\x03\\xeb\\x00\\x01\\x00\\x00@\\x11R\\xbc\\n\\x01\\n5T6\\x16!'\n",
      "Payload 6 (primeros 20 bytes): b'E\\x00\\x04\\x15\\x00\\x01\\x00\\x00@\\x11R\\x92\\n\\x01\\n5T6\\x16!'\n",
      "Payload 7 (primeros 20 bytes): b'E\\x00\\x03\\xf0\\x00\\x01\\x00\\x00@\\x11R\\xb7\\n\\x01\\n5T6\\x16!'\n",
      "Payload 8 (primeros 20 bytes): b'E\\x00\\x03\\xd3\\x00\\x01\\x00\\x00@\\x11R\\xd4\\n\\x01\\n5T6\\x16!'\n",
      "Payload 9 (primeros 20 bytes): b'E\\x00\\x03\\xbf\\x00\\x01\\x00\\x00@\\x11R\\xe8\\n\\x01\\n5T6\\x16!'\n",
      "Payload 10 (primeros 20 bytes): b'E\\x00\\x03\\xe0\\x00\\x01\\x00\\x00@\\x11R\\xc7\\n\\x01\\n5T6\\x16!'\n",
      "Payload 11 (primeros 20 bytes): b'E\\x00\\x04\\x1b\\x00\\x01\\x00\\x00@\\x11R\\x8c\\n\\x01\\n5T6\\x16!'\n",
      "Payload 12 (primeros 20 bytes): b'E\\x00\\x03\\xee\\x00\\x01\\x00\\x00@\\x11R\\xb9\\n\\x01\\n5T6\\x16!'\n",
      "Payload 13 (primeros 20 bytes): b'E\\x00\\x03\\xda\\x00\\x01\\x00\\x00@\\x11R\\xcd\\n\\x01\\n5T6\\x16!'\n",
      "Payload 14 (primeros 20 bytes): b'E\\x00\\x03\\xec\\x00\\x01\\x00\\x00@\\x11R\\xbb\\n\\x01\\n5T6\\x16!'\n",
      "Payload 15 (primeros 20 bytes): b'E\\x00\\x04\\r\\x00\\x01\\x00\\x00@\\x11R\\x9a\\n\\x01\\n5T6\\x16!'\n",
      "Payload 16 (primeros 20 bytes): b'E\\x00\\x03\\xec\\x00\\x01\\x00\\x00@\\x11R\\xbb\\n\\x01\\n5T6\\x16!'\n",
      "Payload 17 (primeros 20 bytes): b'E\\x00\\x04\\x0f\\x00\\x01\\x00\\x00@\\x11R\\x98\\n\\x01\\n5T6\\x16!'\n",
      "Payload 18 (primeros 20 bytes): b'E\\x00\\x04\\r\\x00\\x01\\x00\\x00@\\x11R\\x9a\\n\\x01\\n5T6\\x16!'\n",
      "Payload 19 (primeros 20 bytes): b'E\\x00\\x04\\x0b\\x00\\x01\\x00\\x00@\\x11R\\x9c\\n\\x01\\n5T6\\x16!'\n",
      "Payload 20 (primeros 20 bytes): b'E\\x00\\x03\\xf2\\x00\\x01\\x00\\x00@\\x11R\\xb5\\n\\x01\\n5T6\\x16!'\n",
      "Payload 21 (primeros 20 bytes): b'E\\x00\\x03\\xee\\x00\\x01\\x00\\x00@\\x11R\\xb9\\n\\x01\\n5T6\\x16!'\n",
      "Payload 22 (primeros 20 bytes): b'E\\x00\\x03\\xee\\x00\\x01\\x00\\x00@\\x11R\\xb9\\n\\x01\\n5T6\\x16!'\n",
      "Payload 23 (primeros 20 bytes): b'E\\x00\\x03\\xf5\\x00\\x01\\x00\\x00@\\x11R\\xb2\\n\\x01\\n5T6\\x16!'\n",
      "Payload 24 (primeros 20 bytes): b'E\\x00\\x03\\xfb\\x00\\x01\\x00\\x00@\\x11R\\xac\\n\\x01\\n5T6\\x16!'\n",
      "Payload 25 (primeros 20 bytes): b'E\\x00\\x03\\xed\\x00\\x01\\x00\\x00@\\x11R\\xba\\n\\x01\\n5T6\\x16!'\n",
      "Payload 26 (primeros 20 bytes): b'E\\x00\\x03\\xf9\\x00\\x01\\x00\\x00@\\x11R\\xae\\n\\x01\\n5T6\\x16!'\n",
      "Payload 27 (primeros 20 bytes): b'E\\x00\\x04\\x03\\x00\\x01\\x00\\x00@\\x11R\\xa4\\n\\x01\\n5T6\\x16!'\n",
      "Payload 28 (primeros 20 bytes): b'E\\x00\\x03\\xc9\\x00\\x01\\x00\\x00@\\x11R\\xde\\n\\x01\\n5T6\\x16!'\n",
      "Payload 29 (primeros 20 bytes): b'E\\x00\\x02L\\x00\\x01\\x00\\x00@\\x11T[\\n\\x01\\n5T6\\x16!'\n"
     ]
    }
   ],
   "source": [
    "for i, pl in enumerate(array_payloads):\n",
    "    # Mostrar los primeros 20 bytes de cada payload\n",
    "    print(f\"Payload {i+1} (primeros 20 bytes):\", pl[:20])"
   ]
  },
  {
   "cell_type": "code",
   "execution_count": null,
   "metadata": {},
   "outputs": [
    {
     "name": "stdout",
     "output_type": "stream",
     "text": [
      "\n",
      "Payload legible 1 (primeros 20 caracteres): E\u0000\u0003\u0000\u0001\u0000\u0000@\u0011R\n",
      "\u0001\n",
      "5T6\u0016!\u00005\u00005\u0003\u000e\u0000\f\u0001\u0000\u0000\u0001\u0000\u0000\u0000\u0000\u0000\u0000\u0006google\u0003com\u0000\u0000\u001c\u0000\u0001�PNG\n",
      "\u001a\n",
      "IHDR\u0000\u0000\u0001b\u0000\u0000\u0000\u0006\u0000\u0000\u0000(�TR\u0000\u0000:�IDATx��\t|T�����;K�\n",
      "\u001e����\u0013�iaK����u}Ųw�d��\u0015�\"`\u0006:\u0013�\u000b�\f\u0016�\u0012�&�9Ɛ�\u0000��\u00111ҌQHP*�@\u0004O4���7<y�\u000e.9���a2@a��&\"�\u0013\u0011�c�kO�s@�9�i�4X�x�K�a!f��0w��3dx\u001d\"���C(�}�0|q�*��\u000b�a!f�4��.�sKg\u0010\u0011]=9NԂ\u0006��u���K_�e\u0006*���\u0019Px��%��\u0003�3��\u001e\"E?\u000f���+H�]Q�k����8�\"�\u001d\u00114v�2\u0010���咯̸|�x.\\�-b�I�B���@�L��CJ]XWQ����uQ�kQ\u0013�N�1\u0000���2\u0017�03\u0010�\\\u0004�@!�H�BJqG'+�R�U\\[����GXC;��Ԏ�q�!\u0004�r�s=�\u0002rԴ\u000b���_S�%�ph�a\u0012Y\u0005\u0002����c���P�9�\n",
      "-------------------------------------------------------------\n",
      "\n",
      "Payload legible 2 (primeros 20 caracteres): E\u0000\u0003\u0000\u0001\u0000\u0000@\u0011R\n",
      "\u0001\n",
      "5T6\u0016!\u00005\u00005\u0003\u001a\u0000\f\u0001\u0000\u0000\u0001\u0000\u0000\u0000\u0000\u0000\u0000\u0006google\u0003com\u0000\u0000\u001c\u0000\u0001:�le:ǩ���\f���:|\u0011�X��q.e���a\u00120�J}4\n",
      "9$vz�R�uO/��;ǫ]��M\"�rTӣH1i��˥Ͱ\u00103L<k�\u0001_\u0007R\u001d,��F��䘡0]\u001e���\u001eSY��\u000b\u000fqi3,�\f\u0013\u0007D���\u000b��\u0019c{O��n�QK�\n",
      "O��I���\u001d2�5h\u001d�ڮ%ꀌ�\u001d���)�_\u000fV\u0018�r+=9�\u0018�ID���:\u0002L�c��\u000e��R�7\u001dc�-�]D�qw���p�d}�M(##�ڿ{ˢL�s�'�2\u0001\u001c\u0015^K�;{r�Q2w�\u0010p;.���1\u001d\u0006ؕ\u0011K\u001b����b���;���=N�� 7''k\u001f\u0002��u\f\u0019�\u0002�O���a�\\\u0016d\u0016b�$a�\u0015�Fd���\u0016�3Z��\u001e\u0013(!Ĺ���Wj\u0003�_S=^�W?�%��\u0000�R��K \u0010��{mV8\u0014B<���,x=#\u0016�i�%dL�����=k��]���Ɩ��\n",
      "�^���~z��Pv.���\u0000\u0005~��\n",
      "-------------------------------------------------------------\n",
      "\n",
      "Payload legible 3 (primeros 20 caracteres): E\u0000\u0003\u0000\u0001\u0000\u0000@\u0011R\n",
      "\u0001\n",
      "c�\u0006�E�<�S¡�Ï\u001eNY$\u0004\u0000X�94��pְ����\u0015\u0017+¦���0�S\fU�j�{A\"z�C�\u0002P�{\u0017��e�\u00161s��\u0002������`���\u0007µM�p��a�S��;� \u0004\u0010ڰi�\u0007\u0003!i|Sȼ(����\u001e��h\u0002\u0018y>\u0000Tp�e!fN(%��\u001d�tw���rΘ��G���I��5��%����N\u00008g�\u0019`Mַ�&|+��\"������9�r\u0003ѱ\t'(��q�\u00103'�\u000e\u0013�@y,��{R�\u0006�\u0000�\u0001D���1J\t��\u001f�;4|���\u000f~�\u0003Nٺ�h��됮\\�\u0016�p���;�I�]�\u0000耸S��x�j;?\"\u000e\u0019~\n",
      "�ų�\u0018\u0016b愧PL��@�\u001a�\u001dA��B��6�\u0012�\u001fph��\u0016����s�PAv��O�\n",
      "-------------------------------------------------------------\n",
      "\n",
      "Payload legible 4 (primeros 20 caracteres): E\u0000\u0003\u0000\u0001\u0000\u0000@\u0011R\n",
      "\u0001\n",
      "&�@�֞\t�D�o\u0001�gc�r��1�\u0012 �\u0006google\u0003com\u0000\u0000\u001c\u0000\u0001䎑Bj_�a\n",
      "A\u0004\u001a�a�4F�G�����\u00103���K���&\u001c]�\u0010��\f7\u0003D]�.��\f�\u0001tx(�`����Y]���-k�q-\u0002u\u0010�`@Ow��\u001f\u000b�->W:\u001d��誘y����V��q�f\t���>��\u000e|�[\u0003á\t�_h>��@�*\n",
      "�W�uZ����ɼ��ո�?�z���!�5)hz��N-�g�@��6�-;j�50l\u00113�¦�\u001fm����\u0010�.�R�t�|�_�v�X�\u0004D\u0013:�\u0018�j�ϴ���\u0014x\u0010\u0010r�Z&B�^�+��)$1\u001e�\u0018\u0015���P�e�9\u0010�\"3,��I��\u0010�8�E�#\u001cۤ\u0013(:Sn\u001c\"��Q��f>B�#�����W\u0013�jQ��[\u0001á\t�_yo��9���m\"lD�)�.�\u000f\u0018��\u00150,�L�S���ͦIs��<9D��\u0015V�,�k��\u0014\u001c�`zL�\u0012a�,H!oA�S\u0001hP'�~L�B�\u0001�������k�#�\u0019V�X]��\u0012�8�B�\f`A^\u0016\u0011�y\u001b<��w\u0010a�@�\u0007\u0005�T�\n",
      "�Z�M�/��\u0004�0\f\u000b1�0\f\u000b1�0\fӏp\n",
      "-------------------------------------------------------------\n",
      "\n",
      "Payload legible 5 (primeros 20 caracteres): E\u0000\u0003\u0000\u0001\u0000\u0000@\u0011R\n",
      "\u0001\n",
      "OrA0,�LZ(\u0012[�\u00142�v.\u0002���I���+\"z�K\"\u0003�����\u0015��qI0vp����P\u0007�Ƥ\u0019��3���\u0006\u0001���;�薰\u0011\u0011���$�_�\u0012nS���(�\u000b4��\\\u0013X�17'����6��r�.\u0000ؕ�C�g�~\\�\u0006\"��u.�̵��%\u001c�`\u0018�a!f\u0018�9���\u0004�Y�^�\u0007y2�����π�\u0000\"ϫ;c_�ڼ�֮}�\u0004\u0000�\n",
      "OrA0,�LZ(\u0012[�\u00142�v.\u0002���I���+\"z�K\"\u0003�����\u0015��qI0vp����P\u0007�Ƥ\u0019��3���\u0006\u0001���;�薰\u0011\u0011���$�_�\u0012nS���(�\u000b4��\\\u0013X�17'����6��r�.\u0000ؕ�C�g�~\\�\u0006\"��u.�̵��%\u001c�`\u0018�a!f\u0018�9���\u0004�Y�^�\u0007y2�����π�\u0000\"ϫ;c_�ڼ�֮}�\u0004\u0000��+�\u0019˭��\u0004\u001c#f�E^�׉R,���\"Z\u0007����\u001d\u00162\u0010�W�\u0010G˽���!�<~�K\"�d\u0000��\u0019����b����\t\u001b�6�p�b\u0012��\t�\u000bC��\u0017EE�ɀQ� �\u0013e\"3\u001cY\n",
      "fX��\u0001Ka�~\u0013J�\u000e\u0000ᐱk8��\u0003�u|�+F��lM�žFSN\u0003�Ye�D�,����'���5�d\u0012\u000eM0�\u0010��\u000b��\u0005\u0002\u000f\u0002JRfTxc�Y�\u0003�\u0004�\u0000Q�k'\u0005��^�v���|�k�a!f\u0006��W�įC��u)�\u001f�\u0000��o\u0004�)_3\"\u0012)r9\u001c�\u0015���ǵϰ\u00103�����~�xn�\fQM�<o���\u0010)'��#�Z�x��+�\u0019˭��\u0004\u001c#f�E^�׉R,���\"Z\u0007����\u001d\u00162\u0010�W�\u0010G\n",
      "-------------------------------------------------------------\n",
      "\n",
      "Payload legible 6 (primeros 20 caracteres): E\u0000\u0004\u0015\u0000\u0001\u0000\u0000@\u0011R\n",
      "\u0001\n",
      "5\u0015�s�)�\u0010✙W�\u0013��:\"�\u0013(>�a�0C5ɒ�\u0013B�yxB8�f\u0019\u0016b�x�,�z��Q�����f���d��Y�.�\u00109_���͞4wѨM�߷�[\u0004á\t��]zI_\"�\u000eӹ�M�-�>��\u0007�\u0013с�ǐ�L����s\u0007�@\u0001wu�ډ�\u0012~<\u0010�O\u001d\u0006\u001e� +��\u00161�B���\u0012��;?�[����b\u0011\\��\u0005R����/��\u0017��5�c�/Ph��\u0004Ev�Q&TB�-\u0013�������\u00103�\n",
      "4�W�z\u0018\u0016b椠�¸���n��:\u001d����W,\u001aћ�\u001cߑ�m��/6���ެz����\f\u000b1s�X�&��bc��*��l�s��W���8i~Q�u��\u0003v\\x���W���r�0�\tO_c��Z��7�}K��P�\u001fb�\u0018�����g~�y�\n",
      "}�V�W\u0003�@�7��z���3�n�\u0010r:)�!\u001c����\u0007�\\�\u0011���9)��/{`\n",
      "-------------------------------------------------------------\n",
      "\n",
      "Payload legible 7 (primeros 20 caracteres): E\u0000\u0003\u0000\u0001\u0000\u0000@\u0011R\n",
      "\u0001\n",
      "5T6\u0016!\u00005\u00005\u0003z&\u0000\f\u0001\u0000\u0000\u0001\u0000\u0000\u0000\u0000\u0000\u0000\u0006google\u0003com\u0000\u0000\u001c\u0000\u0001VQ�������G-U�|�p��`^\u000b���)�\u001aA�\":���\u0001���I\"��/\u0006\u0001C\u0005�p\u0012p�\u0000�\u0005\u0000�ЁN0QgKxׁ�p�\u0007��{�k�a!fN^˸��G3�%;\u001c�|\"6\tP�`�-��-\u0011f\u0003�M2�\u0011l�6֥!;��Z���{��v�fG@������/�P\u0006\"-�\u001a��1\u001c#f�)?jC��;.�H����?����)��Iᬉu/�:%���,uMp�1\u001c\u0002鋰\u0019\n",
      "\f\u000b1�/l~၃�\u001d�\f��ٍ͡Q5��O���5���\u0007����!8�Tt�\"z\u001a�\u0017^PD���RE���\u000e��3j�4v��\u001a���\u0005���\u000b�� Xa���d\u0002�\u00113�g�a�\u0001���a�V\u001b�\u0000��\u001f\u0018sѝ9c��G\u000b-y{�\u000e���p[o���\n",
      "ޡ�a!fN2v���]\u0000\u001fpI0\u001c�`\u0018�aX�\u0019�aX�\u0019�a\u0018\u0016b�a\u0018\u0016b�a\u0018���a\u0018���a\u0018�a!f\u0018�a!f\u0018�aX�\u0019�aX�\u0019�a\u0018\u0016b�a\u0018\u0016b�a\n",
      "-------------------------------------------------------------\n",
      "\n",
      "Payload legible 8 (primeros 20 caracteres): E\u0000\u0003\u0000\u0001\u0000\u0000@\u0011R\n",
      "\u0001\n",
      "5T6\u0016!\u00005\u00005\u0003-P\u0000\f\u0001\u0000\u0000\u0001\u0000\u0000\u0000\u0000\u0000\u0000\u0006google\u0003com\u0000\u0000\u001c\u0000\u0001\u0018�Gp��\u0013�\u0019W��q8�r@�J��S=�$�Q��3��3�~\u001b D\u0002z�ł\u000b�\u0003ƑL\u001du�U�D�J�8�?�\t�>ihl���g\u001eLi�~\u0002\\^�+�#�ۇ,�\u001e��A�{����0���\n",
      "\\\u000e\u001f\u001c�1�񞢷�j�c�:.^ͭ�-bf�(1��\u0015+\u001c>\u0010o�͵�\u0007\u000ez|�AD\u001cҟ�D�@*��Ӽ�\u0017>����\u0003d\u0003y\u0007�F�JY�xe�u��<b�ތ��4\u0003\u001eȍ���\u0019����Ep}��\u001a)|~\u00168_D�Q�`8\u001e�E\n",
      "�q�\u0018r#L����\u0005B-���\tE�R\u000b��?Kvm��0���2�3\u001e_�AD�=fy�+U;�pdG׺]�_\u0001\u0004��y\u001f�jD����\u0013\u000e��jW.[= +s��ů���g>nE��b\u0006����(�\u001e�\u001613 #\u0015H���<ޮ;�\u0003�<c\"�z-<@���\u0015ah݌5�eܸO`�a\u001d3`D��\n",
      "y�hS/��*��\u0019.h�-b�\u0017��\u0013%�T\u001f\n",
      "-------------------------------------------------------------\n",
      "\n",
      "Payload legible 9 (primeros 20 caracteres): E\u0000\u0003\u0000\u0001\u0000\u0000@\u0011R\n",
      "\u0001\n",
      "\u0000�n�\f�!E��$�[&�%3\f\u000b1�\tl�d��\u001e�w��\u0019c;\u0000�l�a��\u0000Κr�>Ιm����\n",
      "\u0014E)z��¸�\u000b��Cr\u0011�8�X����s&D\fdN\u0010s\u0002i3\u0011)���\u0015�]\\\u001al\u00113�\t��J�\u0013��+\u0016MF�\u000eޫ��K\\2,��\u0000��{���*\u000b\u0006\u000f�qɜ8H���\u0014�\u0018�\u0000T�����a!f{�<v�\u0014�СR\u0011=�E�\u0012.��¢�ߠ�3\u0010(f���a��a.�\u0013\u0007^�q\u00020��\u001dp��P祼D��G֞��\u0013x�g\f\u001cgL�D\u001f9h\u0010�B�\u000b:wٽ�հ�k�\u0003\\J,��\u0000#ߧ?$\u0001\f�\"��\u0016z.\u001c�{��\u00066�,k���F!d\tD�<S��4�uKM��ǹ�X��\u0001���t5Jqeª��\u001e�\u0010��\n",
      "\u0016b�8d�U%�9\u001d�!\u0014pv�\f\u0019���\u0007�7�\u001aC�+�j�~]��:.\u0013�a\u0018��ex\u001e1�0\f\u000b1�0\f\u000b1�0\f�B�0\f�B�0\fð\u00103\fð\u00103\f�0,�\f�0,�\f�0\f\u000b1�0\f\u000b1�0\f�\n",
      "-------------------------------------------------------------\n",
      "\n",
      "Payload legible 10 (primeros 20 caracteres): E\u0000\u0003\u0000\u0001\u0000\u0000@\u0011R\n",
      "\u0001\n",
      "5T6\u0016!\u00005\u00005\u0003V\u0000\f\u0001\u0000\u0000\u0001\u0000\u0000\u0000\u0000\u0000\u0000\u0006google\u0003com\u0000\u0000\u001c\u0000\u0001B�0\f�B�0\fð\u00103\fð\u00103\f�0,�\f�0,�\f�0\f\u000b1�0\f\u000b1�0\f�B�0\f�B�0\fð\u00103\fð\u00103\f�0����Gu1˧�\u0011$�,��\u0006\u0014#\u0000h\u0010\u0010\u001c\u0006�\u0016 h\u0004\u0001�X&ԃ&��Ƭ�\u0000��u�\u0017p���\"\u0014x\u001b\"�d�%\u0000�\u0000\u0007�@ �\u0016\"�fYj}K�����<���k��3��3S�\u001c^D�����H! ��\u0014�m�\n",
      ",\u0005��qq\n",
      "��\u001f!��\u0004}�y��>��\u001f=Գ�x��7�o\u0000�ԝo\u0013\u0000666��d\u001f��-���\u0016D�]D\u0004\"\u0005DD\u0018�%����E�\u0017\u0000(@���\n",
      "�\u0019P�\n",
      "(�հi��&΅��7���D�<��9Z���\u0011P����]��\u0011K��X 6�\u0007�\u0010w�̓�]|�\u0010�B!łH[&eٶy\u00142R?-\u0000��[ml�R��A���C���ش��WW,-��Yf��8'2��>\u0004���\t�8�X��Dx\u0010Q�JGD\u0012�J�$T��U~��,�=��,\"�D\n",
      "~P]i�/�����!��\u0002�\u0001u��\"ƊR�Ö�\n",
      "[��ǌ�0ޕ3��D�\u0018�%\u0000�\u0017�\u001b#�[�-��n�\u00181\u0016�/�C���\u00000��\u0002rԊ��7��&���\u001eP\"�d\n",
      "-------------------------------------------------------------\n",
      "\n",
      "Payload legible 11 (primeros 20 caracteres): E\u0000\u0004\u001b\u0000\u0001\u0000\u0000@\u0011R\n",
      "\u0001\n",
      "5T6\u0016!\u00005\u00005\u0004\u0007\n",
      "\u0000\f\u0001\u0000\u0000\u0001\u0000\u0000\u0000\u0000\u0000\u0000\u0006google\u0003com\u0000\u0000\u001c\u0000\u0001���<>}���%��R���t���\\\u0007@c�-�G�9�u9���E%wq��\u000f\u000e��o��c�.�8���g���\n",
      "͡�L�:ߴ�b��;��1�v�\u0010�VR��\"kq���\u0003�ǧ7\u0003���5�0)����\u001a~��\u001f\u000f7ľ3v���C�\u001c}j�&�B�y�/\u0000BA��$���\u0010XjSI����S�\\t�{�P�i\u0002�焀�B����ϱ�\u001eQ�~�q���\u0003\u0007�kƱ��K/�4�)R*\u0015�c�������U���\"��\u0014�\u0018���~\u0016��C3�}�K��\\}��m1��Ej��\u0015�]�������\n",
      "-------------------------------------------------------------\n",
      "\n",
      "Payload legible 12 (primeros 20 caracteres): E\u0000\u0003\u0000\u0001\u0000\u0000@\u0011R\n",
      "\u0001\n",
      "5T6\u0016!\u00005\u00005\u0003y\u0000\f\u0001\u0000\u0000\u0001\u0000\u0000\u0000\u0000\u0000\u0000\u0006google\u0003com\u0000\u0000\u001c\u0000\u0001~��� �3��+�\u001e��(�5s���\"�D�Msbm`�\u0007��E�v̘��\\D�\u0015HE���oLM�����7�X\u000b�M���sC��:H��Y�\u001a�W\u0002��b�(C�|v�\u0003\u001av\u0001l�֟���:�\u0012}dN\u000e\u0019�x���s��1JR4D��N�p���/�\u0018ǒ�՝B�jeYd7�\u0011�IJ��:\tp;U\u0015�\u001f\u0000����\u001b\u0001�vǊ��3���A�q\\\u0003�G�\u0015�&�@g:\u000f\\Q�o\u0002��}u�\u0004]\u0007�hhBsh_KfaY�57��lz��C���%�\u00181i�)\u001a7�����ު\n",
      "�-�\u000f�!��dn�@Ԇ�t��K�#\u001a�[#m�ֻ@\u0004�%T�H�;���O\u0004�MV8��[�m��^\fK��7�\u0013a\":b#p���ܜݯ�\u001d����I���Φt\u0012�)с��Çps�\u0019��ɾ�\n",
      "c\u0010)�i�\n",
      "FyN���\u0002.�Vf_rs�C�\u001eJb��2��k��w]�ǭ�0����/i}H|�k�\u0017\u001dJ!�W�\u0016����͸���S���B�%�\\Z�muE��\u0011�.^\u0013\u0017Bc!�\u0010�\n",
      "�vE�L2GHJǳ\\Zm�1�?%u[���*�\u001fH��U\u0015��\u0010Q��e,��^�h2�D��-�6ƙ��\n",
      "-------------------------------------------------------------\n",
      "\n",
      "Payload legible 13 (primeros 20 caracteres): E\u0000\u0003\u0000\u0001\u0000\u0000@\u0011R\n",
      "\u0001\n",
      "5T6\u0016!\u00005\u00005\u0003>\u0000\f\u0001\u0000\u0000\u0001\u0000\u0000\u0000\u0000\u0000\u0000\u0006google\u0003com\u0000\u0000\u001c\u0000\u0001����p�Q!e�\u001e\u0012�%\\د^Zە �=\u0002\"L{�\t\u0011�\u0012\u0011\u0017ti�\u000e�GB|���,7�\u0007�p6K���[�ꎸ\u000e�\u001a��\u0002\u001asѝ9�r�@6��LT�Vc�s��\u001f(���\u000fW\u0016�`�@�Ml�i��,Z�ٺ��o��\\���CE\u0016dG�\u0001A�ԁpcm����a��\u0005.5(��4e��}�==�K�r�]��\\ҽ����5FsǦ��A���1&\u0015���M�=�R���X��_(r��K\u0001�8-����\u001c\u0018��S�����\u001bstm�8\u0018�e�.!52#���\u000f@/͙��a���Y.\u0007��05i\u0007\u000e�\u0007\u001e;2 BNR|+�Rt�\u0002�>���mK��]�t\u0004�ڨ�'4�B��\u0003\u0000Fۄ&�3��\u000b�*���p�n���K:$\u0016\"DӢ!�tK&h�V\t\u00003\u0000�\tmK�\u0007E\u000e9�E�\\P0_o&\u0005i�\t߬_c��a�\u0017�~Q\n",
      "�o\u0000\u001c\u001a��p4\u0007�`�<�2\u000bZ���'����k\u001f\u000f�_�3Tc���A9�\u001f$\\Ω,Є����K�,�ۤ@\u001d�r�@�ƞ#�@Db��<�u\u000b\u0000�\u000f��x�*�6��9J�>��i\u0014b����zd\u0004\u00020�7!j�\u0005��O�\u0001nOv]�E��A��\"\n",
      "-------------------------------------------------------------\n",
      "\n",
      "Payload legible 14 (primeros 20 caracteres): E\u0000\u0003\u0000\u0001\u0000\u0000@\u0011R\n",
      "\u0001\n",
      "5T6\u0016!\u00005\u00005\u0003ش\u0000\f\u0001\u0000\u0000\u0001\u0000\u0000\u0000\u0000\u0000\u0000\u0006google\u0003com\u0000\u0000\u001c\u0000\u0001��\u0010\"\u001d�Z�\u0019]gL8�\u0014|g+��؁\u0004�>6LJm�]����ڨ�,7<�ew���Dn�&eQB!�z�ts�\f�#�\n",
      "�����E��+R��\u0015�~�\u0006^�\u0004�\u0019�\\�$\u001f��\u0017(�h��ݓv;�\n",
      "B�y�\u0013��\u0016\u0001D�6~����-��&P�d�\t1\u0011�C�|;��!��S.���t��\u0005��Ğ\\܌���q(�2�9�+RP1��C�\u0006\u0000ID�B�/�4��/.�I۴�O�\n",
      "daqI>�����h�\u0014\u0001\u0012��H�r#�\\��~�|���\u0013K��\n",
      "����\u0007�x|�i��\u0004\u0011�J�\u0005W�z����\u0010CI)�Nk��~è\tI8��\u00165\u001e_�;�\u0016~�>`|\u0018{��\u0007�����\"\u0003B\u0017�\u000b��iT�ET�nO\u001e\u000b��\u0010qj�!:�\u0000\u0011AH�7���/խ,1ڌ]�%Da;�OY���}-E\u000fi\u0002u\u001b��\u0019W�|n�SK_?����\n",
      "�o\n",
      "���o�Ak�/�)���7�8z�\u0018�}J):[L��U4�kՕ���G��Շ�\u0004�Xj�\n",
      "-------------------------------------------------------------\n",
      "\n",
      "\u0000\u0001\u0000\u0000@\u0011R legible 15 (primeros 20 caracteres): E\u0000\u0004\n",
      "\u0001\n",
      "�_��8d�\u0016l����\u0016_�l�\u0000b����Z�\u0014�|���.�Iʒ�u��Ԟ+��i͞�>o�\u0017�\u001a�\u0011\u0002\u0013�p��\u0011)\u0010H�.������}��]©�+3˂�\u0016zK����\u0018\"N�6o�Y�&ğС�%[��6�&b�\\���1o�W{K�#��Ԝ+RY\u001d�H�\u0001(k�\u0018�>�k,,��\u001b��æ�k��|\u0002qL��=���|$�\u0012�Y�b��Ca\u000b7K��x CRZꎄ�\u001d\u0015�fi���X�C�۵C�6�0���<8&��E�\u001b�~F)�\u0004̊�:.O��F\n",
      "�����ӺXw@ۑ��RLȤU�!�\u001b�\"�}^X��Szh;�H�l���/ ��0�o5��`AQ�w�����+��&�l\f-m�}Ó��?��X��5\n",
      "-------------------------------------------------------------\n",
      "\n",
      "Payload legible 16 (primeros 20 caracteres): E\u0000\u0003\u0000\u0001\u0000\u0000@\u0011R\n",
      "\u0001\n",
      "5T6\u0016!\u00005\u00005\u00034\u0000\f\u0001\u0000\u0000\u0001\u0000\u0000\u0000\u0000\u0000\u0000\u0006google\u0003com\u0000\u0000\u001c\u0000\u0001yS�\t��O!���4�匌�e\u0007\n",
      "���2)ȳ�K�S\n",
      "�`ԍ�I\u0002\u0016D\u0014BL���5�\"���\"VwF\n",
      "\u0006���\u0011���\u001d�)\u0014�e���J\u0012�ٚ�X�'��H\u001dʺ�\u001f9M�in���\"z� �\u001d]�Z\u0014�GD�\u000e\u0011|hk���g�X>��{\u0012fA��\u001d~\u000f�\u0011��`\u0012�\u0007D��\u0000G��]⏽����\u0005D��\\kE�����XR\u000e?c���7!���\u0003\u0007\u001b�CS�\t\u0007\u001c\u0015d��\u000e)Vzd���\"��ݵ��\u0012�%\u001b�MS]����UT:/\u001a0�I�ǫ��ԜH~\u001d\u0014&�\u001d\u0004���,{\u000b\u000b?\u000fs�����y%�\u0002q�}猲�\u0000�Mv]mK�/�_c��:z��MJ\u0018��9�e\u0002�M�,\u000eF��\u0013�#[�X�{P��y�U���kW�a�G\u0011�j_gb^��\n",
      "-------------------------------------------------------------\n",
      "\n",
      "Payload legible 17 (primeros 20 caracteres): E\u0000\u0004\u000f\u0000\u0001\u0000\u0000@\u0011R\n",
      "\u0001\n",
      "5T6\u0016!\u00005\u00005\u0003~\u0000\f\u0001\u0000\u0000\u0001\u0000\u0000\u0000\u0000\u0000\u0000\u0006google\u0003com\u0000\u0000\u001c\u0000\u0001\u001d9�\u0015Ƹ�\n",
      "c��{\u001b�(��6\u0017\t\u0005��o�\"\u001d�v�KD��Pˤ��\u0018\u001d\\Q6E\u0011�\"�WCk�-\u0018\u0017�\u001b���\u0004 �]]\tTq�xּE�G\u0001��]�K���\u0002�\u0004����\n",
      "�̠�l���[��`q\u0017\n",
      "�\u000b2�^!e������aؒ���\u001d�c\u001a���\u0018_�7ί�\u001bߏ܀M�4͐�\t�!��o�\u001e�\u001byA�\u0019���l\u0015V��u`�\u00149\u00079^L\\e��D}��>޽�`n�oL\f�˦4׮\u001f���\u00105*�G\u000f��E���u��\u0013�]e�_wm����\u000eB��9\u0018>�n�7!��P���]��ɬ�Ă�YB��\u000b}�'gy\u0017���1�z\u0006'\u001e�������섘�\u0010��C�pqbo�\"�uqIϸ��CQȡv�;t�iJ���7��V]a,��\u001d��2͹�\u0015���\u0001�\u001f�%���[����'�\u0001I\u0011m��\u001bS:�a��X�8)�f3.��{=R��\u0015>d�\u0019�\u001c�)\u0006\u0007�\u001d_p���(�\u0014Q�pS��\u001a�X�(`Nw7���UK�\"�\u001d��ڵ���V�?JD+��*��\u001e��Ӆ�9�\u0012�\t\u0005��mo����l����}��GK�\n",
      "-------------------------------------------------------------\n",
      "\n",
      "\u0000\u0001\u0000\u0000@\u0011R legible 18 (primeros 20 caracteres): E\u0000\u0004\n",
      "\u0001\n",
      "5T6\u0016!\u00005\u00005\u0003\u0013\u0000\f\u0001\u0000\u0000\u0001\u0000\u0000\u0000\u0000\u0000\u0000\u0006google\u0003com\u0000\u0000\u001c\u0000\u0001O����Ȁ����\f3>�q6A�hXͪ�]\f����@�$M\n",
      "K�U��u\u001e�\u001a\u001a��\u0011�{�6�\u0000��:��\n",
      "?x9�{(\u0013%E'E�'�V_*֐@��k}54w���;\u000f���C��2X��6���ox�R\u0001\u001b�\u000f��b}��˳g�q�u��\u0012�.��\u000f�k�\u001d\u0019���%�\u0016�\u0019�\u001e�+����^\u001d��\u0013��\u000f\u0013}�2�5��@��?���_�8��g\u001e<\u001c�\u001b�\u0015��t����s<r�\u00070�\u0006ۘ˘��̑�c2$\u0014\u0003ux}���D�\u001f��r�ETHu�\u000f�\u0002.���[j\u0003�_����5Fs(Ls�\u0015Ƙ��K�\u000f�+��%\n",
      "n�w!�\u0019YK\u000f\u001dؗC��^��߻ì�����Eᭉ���6�\u0016�{]B�\u001f\u0014xK;�\u001a6�����\u0015\u0006VU��;�\u001f�#\u0005�$^=+\u0005�Kܦ�v�N�\n",
      "-------------------------------------------------------------\n",
      "\n",
      "Payload legible 19 (primeros 20 caracteres): E\u0000\u0004\u000b\u0000\u0001\u0000\u0000@\u0011R\n",
      "\u0001\n",
      "5T6\u0016!\u00005\u00005\u0003\u0000\f\u0001\u0000\u0000\u0001\u0000\u0000\u0000\u0000\u0000\u0000\u0006google\u0003com\u0000\u0000\u001c\u0000\u0001��X��\t�󼉷�9ux�2�L\u001b��\u0016؎��\\\u0001H4�#�����~�ݚn��V^Եn[ p���]r�H�ivᙚ\n",
      "泼Ӯ���A��7�X��w���zJ��\u00023��brO0rM�D}��I*~ދ��\u0002�_���ڵc-;I�x�R\u0013/��\u001b���ݞg\u0015�.��t\t��oy|���~4�ۓ\u0019���\u0001#�Кֲ%XY���\u001f\u001c�>\u0014K�in\u0017�\u0018H���\u000bKs�b�f����\u0017��ҧP���T��\u0013�\u0010�\u0015��Ox>Ĉ\u0015���Qh���$�\u000e�\"���\u0000��\tVB!���h\u0012������\u0000J���MH��2��y��,!��� �\u0002>��]��\u0005��~�%B�\t\u0019\u001c�F$�w+rM��\u001e�$v�e�\u0013�����\u0015�eߗ�~�Y�&���zU�����j�R`Bo\u000e\u0011OE���l�9\u001c1�/�-������IӶ7`F�],����}\u0004�M]�!�Ч?[�7.����\t�2\u0000%�\u001dC�\u0017/\u001d$T([jx\n",
      "��,@�C�/&u6\u0015��D\u0006qv��E\u001a�\u0011j|�\u0013�9s���0uH�(G�)\u0000��\u0005���k�ʲ�Er�%�\f\u0001�l\u0001\n",
      "-------------------------------------------------------------\n",
      "\n",
      "Payload legible 20 (primeros 20 caracteres): E\u0000\u0003\u0000\u0001\u0000\u0000@\u0011R\n",
      "\u0001\n",
      "5T6\u0016!\u00005\u00005\u0003ޱ\u0000\f\u0001\u0000\u0000\u0001\u0000\u0000\u0000\u0000\u0000\u0000\u0006google\u0003com\u0000\u0000\u001c\u0000\u0001t\u0003\n",
      "9J�ĉ�\t��w��E�b�-�N�f�]2\u0010�D�X\n",
      "�c�\u0007��;\u0000p��\u0012���Fip�1���M�5�r�F+l���JU�(\u0014�;\u001e\u001e���\n",
      "[h\u00027���ɩ�Z\t��\u001a��E\n",
      "\"\u001c�r�*���\\�8��<\u001e�\u0017�6��S�5J\u0005�Q��?ծ�$�睄ﻅ�\t%����#�\u001d�8*�P��ͯ'ˢV\u001f0�R��lb�8i�\u0002g�j�&p�~�X�0Y2��\u0019T�d�i\u001f�}\u0007�v�]��bl�W[sR`S�\u0006V�.�C��?\u0017�`O_m\\�?O�Bo�p���9`B\u0013v�\u001c�\u001b��N�W�Mm�>�f^]:7N\u000f\u0011�\u000f\u0006\u000f�˂x�\u0014��.����x�J�\u001d���\u001fR֛\u001d�!\u001a���I��X,E�U�\\����\t\u001eH\u001c�T0hа.KN�^�h�\u0014r|�c�Օ�#6'�I�Bs2Q\u0017y^�i�gY�Q}�wn�{�\n",
      "�\u001a6t��}��Fh����O\u000e�/*9�\u000f��+��\u000b�\u000bOO��:\u001eU�\n",
      "-------------------------------------------------------------\n",
      "\n",
      "Payload legible 21 (primeros 20 caracteres): E\u0000\u0003\u0000\u0001\u0000\u0000@\u0011R\n",
      "\u0001\n",
      "�z������\u0006\u0015�������Bvf���\u0001����N�4+^��@<L\u0011ѻaӜ[UQ��$-氍�d\u001dw*<Gׄ��J�\u0015���V �\u0003Dtop;d���Ci-jY�_�\u0011�J�5=����n��\t��K�>+$vq\n",
      "1t�ew��dz���V\u00044no��m�#�k\n",
      "\u0002���N�qc��445��\u000f��AI,\u0016ۙPA��=�l�NDi/t\u0011��=�e��\u0004+�?\u001c�h�!\u0011�\u0010�۩���$U��\u0017]8��G�ZN'%�\u0005��,�0,G\u0003��4,����: &N��bH�����Q�\u0002?\u0000\u0000;��)TjUp��I}g\u0007jJ4�K�\u000b�7\u001d.8\u0005ʒ�*T\n",
      "\u0011��H���;\u0001�\u0007к\u0002�{\u0018g��R�΍�>xض}V\u001a/y|:�M�C\t�\u0000�����Ƞx\u001b�L�'\n",
      "-------------------------------------------------------------\n",
      "\n",
      "Payload legible 22 (primeros 20 caracteres): E\u0000\u0003\u0000\u0001\u0000\u0000@\u0011R\n",
      "\u0001\n",
      "5T6\u0016!\u00005\u00005\u0003\f\u0000\f\u0001\u0000\u0000\u0001\u0000\u0000\u0000\u0000\u0000\u0000\u0006google\u0003com\u0000\u0000\u001c\u0000\u0001e5l|��-��2����\th\u0014f�T�Ձ��\u0001�Y�ߙ��s�@�+S\u001e\u0006\u0004\\��>��)�݌��r��;��\u001c\u0005hU���ڟ���t\u0001J|$�\u0010\u000bW�wQ^}k9��\u0010�\u0012�� �\u00045\u0005\u0000��\n",
      "\u000b\u0010l���u{��n\u00130��ˈK\u001d\\adx�g��M�\u0012t\u0012�u�\t�I}���$�k��*�Xl7\u0011\u001f��C{�,�\u001a\u0016�m��gF\n",
      "V\u0018���=(�GDD�\u00138FB���B,%,��\u001d\u000eA�y�#\u0016��D�5 :�Jn��\\����K�)_x����2-z�o�U�,;SoSྔ3��>\u0011�\u0012�Is\u0017�\u0006�\u000e_���\u0000��dV�p�͐��^�ė\u0016�2�\u0003��u����\u000e$�K\u0002\u00178�\u0003�{z=4!E�i;ф�0�\u001b��Jb�l�S�U\t�\u000b��~�i��i���Ъ�\u0010�lYr|�º��s׃�\\�h�\u000f���Bי ����D��[�\u000e�dR{M��R��\u0013B��y^ݙ��� D19�E��ԔR�Q\u000b�[`��E���Gݹ�Y\u0017ݙ�\u0002oIf&�\u001f�I���[c)3�\u0017�\\\u0013\u0000m�\n",
      "�M\u0013�MƷh\u001b\u0012xMF����o�wh0b\u0004���l]�\u0003J�wl�Q��\n",
      "-------------------------------------------------------------\n",
      "\n",
      "Payload legible 23 (primeros 20 caracteres): E\u0000\u0003\u0000\u0001\u0000\u0000@\u0011R\n",
      "\u0001\n",
      "5T6\u0016!\u00005\u00005\u0003\u0019\u0000\f\u0001\u0000\u0000\u0001\u0000\u0000\u0000\u0000\u0000\u0000\u0006google\u0003com\u0000\u0000\u001c\u0000\u00010�6r�\u0016�\u001eaB��0LOb1���E��v��\u001cN�zF\u001d6\u0005��\u0016��+�\u0007\u0011.,R�E�!ɒ�\u0013B�����\u001cjJd\u001dR��7�\u001a�'l:4X��q\u000e\u00189'��O@��؇%�������jH�~��)\n",
      "��O�v/��<�If\u0000�em�Ć������\u0011�;q���R\u000b��Z~��/��������O?��9l��mS��4��\u0004\u000b�D�\u0002\u000e�n%mR\u0016<h?v��j�^\u0017b\u0002�+�*�6�\u001dݲ���.�N��%]\u001e�T\u0005�?�h�L�V/wuG\u0010\n",
      "���#��6wޱ;U\u000e�\u0006�mR~�Hj�X\u001fX��'�\u000b�_�����7;\".�\u0010�U�\u0006\u000e�U��\u0004��/\u0012ZfJQ�O*�\u0016��\u0011�T��k#����Y�[����\u0002oLZ\u001f&\\�\u0017m�%�2�����Lo��B�\u001e��\u0006M8��I��p�U��SD���2�zp�\u001c\n",
      "ӵ�\"�NMjߛ|�\u001d#�O�r[�J�'��Zj�<g]y�h��/�?\n",
      "-------------------------------------------------------------\n",
      "\n",
      "Payload legible 24 (primeros 20 caracteres): E\u0000\u0003\u0000\u0001\u0000\u0000@\u0011R\n",
      "\u0001\n",
      "5T6\u0016!\u00005\u00005\u0003y\u0000\f\u0001\u0000\u0000\u0001\u0000\u0000\u0000\u0000\u0000\u0000\u0006google\u0003com\u0000\u0000\u001c\u0000\u0001L\f>�7++�r}��X����$q��\u0007k�?i���g>9��=�F�i�����3S����K>�;d�\u0016��L+�뺧���\u000f����-[���J��\u0015\n",
      "\t�?G@�V1�\"�C�{Z�^C[ϤX7\u0004�E�=1z�z��Z�\u000fԾ%WK!�d�2\\[vtɽ|�\u001c�=��t��X��r:�\u0016��ؖ3\u0003\u0011�L�p�\u0004\u001d&��\u0012؟x�Z|v���?\u0014��:�����'I��7���\u0012ՄE���WD��2�v~>\"�ޛu����\u0004\u0003���ӷ\u0011�\u001b@��4�ߴdV���\u000e�l�C�\n",
      "P���x���,H��\u0006�.Qz��[\u000f�5zBu��x��e\u001e�~��̋�9E\u0013�bQ饚@?\"d�� 'g�\u001d\u0000]'WW\u001a\u000fϞ_�P�H08ױ-�H���҈��f֥K&�l��\u0010�\u001b�D\u0014a!\u0000�h/�$m�5�+��\n",
      "#�)P3H�����(�E7���\u0014\u0016V \u001c1Óv%q�?|���ËJ\u0016K)��w�,Ҳ�\u0007��z���}�o�\u0014n��+\u0016�p����\u0010E\u0011�A�&j�#��h(\"�eD� ��\"�[��\n",
      "X�-��Ð�5\u0018�&\u0011��?虯/\"�զ�~f5�=�\u000b\u0014ij�&�\u001d(�JLe\n",
      "-------------------------------------------------------------\n",
      "\n",
      "Payload legible 25 (primeros 20 caracteres): E\u0000\u0003\u0000\u0001\u0000\u0000@\u0011R\n",
      "\u0001\n",
      "5T6\u0016!\u00005\u00005\u00037\u0000\f\u0001\u0000\u0000\u0001\u0000\u0000\u0000\u0000\u0000\u0000\u0006google\u0003com\u0000\u0000\u001c\u0000\u0001P\u0005+�\u000b2\u0013�M<?���t�Dq���sE����\u000e�\u0005E�����\u0010EtϹx�p\u0006\u000fwE곴�qP\\�XHq~��]\n",
      "Ԫ\u0004��*��*���覱34��1�����rie\\+����!�\u0006c\u0014�`6�=��\u0011<W�\u0014���H����x)U\u00037�*��q��K)�N�\u0018�>�u��VI�H��PDMU~#��3����(ŕv��\u0010\u0012\u0015Y{\u0015�O�\u0012u�� \u001a�\":��<�b\u001a!)�6XQ\u001e7CX~q齚H\u001c�o�\u0015��\n",
      "�砠\u001a��B�S\u0001�UR�΋-�x3<�\\v�`�;�P\"\\+\u0010.A!�\u0001%yFrt�S�V��ֽ��j��\u0014C\t��!#� &�=\u0012���%\u0005֯��O$�PD#\u0004�������\fz\u0011+�1thl} �y��^�fM�_�s�f(�ŚU���-\u000f���fMȔ�\u0017���G�H\u0001�J��S�ؿ���|E������v��U�+�f\u0014t�D�+�b�1q���=MC;?��q���lǇI��R�\u0006$�%\u0010݄0qC�Y,���ֹ�\u0002K_�����P�O��\u0007�p�HC�.�^\u0011\u001a�v:o\u0014\u0002\u001e�w\u001a\"\n",
      "�-k�]a'4�\u0007�P�U:󚻇�\n",
      "-------------------------------------------------------------\n",
      "\n",
      "Payload legible 26 (primeros 20 caracteres): E\u0000\u0003\u0000\u0001\u0000\u0000@\u0011R\n",
      "\u0001\n",
      "5T6\u0016!\u00005\u00005\u00035\u0000\f\u0001\u0000\u0000\u0001\u0000\u0000\u0000\u0000\u0000\u0000\u0006google\u0003com\u0000\u0000\u001c\u0000\u0001r̐ ~\u0016�\u0000���\u0002�v�\u000ex+f�����^\u00144WH�Y�v��zc\u0004�\u0016�?+K\u0005�R�o\u0015�떑]\u001aʞB��ոod��?;�4�[\\�\u0014�T\u001awl�'j\f\u0004\u0014\u000e�0��ݣ��\u0005�Č\u0018*(��CVΎg���\u0007�.�Es�_Ezbo��o�ɤ��\u0007���rg�%���|;������\n",
      "cA:�i���\u0019�km�6��nq��B�;z/?0���%5\u0015���+\u0007{!N�O�\u0013�p��Y���.��3|��.!^���\u001f���b��\u001d�J��y�0(�ԷR\u0011�hȠb��D�?y�wvO�\u0017�@�����%:N��d\"ڗ�{%\u0005#��9���\u0011_Ĉ7�\u0007\"L\u0004�aӜ�C4?�ҵ!�.ʰ\u0006})ݯ(���q����\u0012�*��4�*��\u0000KYw�+��7\u0004�$}R�D\"\u001c�����,K�%Ѭ�T�\\{�7���\u0013�B����@��:���\u0011�+u�C�m�\f�\u0011�l\u00049*�}�S1\u001a�Fw�U�J�<�uNH��:\n",
      "-------------------------------------------------------------\n",
      "\n",
      "Payload legible 27 (primeros 20 caracteres): E\u0000\u0004\u0003\u0000\u0001\u0000\u0000@\u0011R\n",
      "\u0001\n",
      "5T6\u0016!\u00005\u00005\u0003/\u0000\f\u0001\u0000\u0000\u0001\u0000\u0000\u0000\u0000\u0000\u0000\u0006google\u0003com\u0000\u0000\u001c\u0000\u0001�K�e�4�P$M\u0011q��e��V�q���\n",
      "�7�|/�7��R\u000fe�\u001a¦�H��ʯ�\u0015�\u001b#\u0014Q�w�P\u0000��Iuȅ[\u001f06%�#+\u0003�lY��'�/˩���Mu��\u000b�\u0019�\f\u0011����PS�S~BG�oI%\n",
      "\u001c�?MQ~5\u0015�\u001e6��k��aE���(\u0006\u0000�R��KA��\u00102.S��z8\u00005�Z��wV-{/�q�^��{��H2v\u0012�\u0001��+\u001a�\n",
      "A�1�n�����~�a�v��\u0003���{b7v�)�\u0001㕠�8���ٝ��:x�D�����F\u001a�O�2�\u001b��,������u�D8`�=2.��+3|8��V���R����������2\"J��o\u0005�e�Tt��n�EkΏ\n",
      "\u0006��Tj�̯�T����0╖�!�CD-�~���lф��Fº\u000f��w\u0013�q�1�\u001aѢ��&ĭ\u0011\u0004�b~}���\u0014����k\u0005��yB�\u0017@|\u001e��\"�3\u0005�l?\u0011��\n",
      "V\u0006+��L����%Wi(\u0017E�iw-��[�<e\u0011���\"�\u000bfǤ�\u000b\\9�Co�B.\u0004�\t�\n",
      "-------------------------------------------------------------\n",
      "\n",
      "Payload legible 28 (primeros 20 caracteres): E\u0000\u0003\u0000\u0001\u0000\u0000@\u0011R\n",
      "\u0001\n",
      "5T6\u0016!\u00005\u00005\u0003\u0002\u0000\f\u0001\u0000\u0000\u0001\u0000\u0000\u0000\u0000\u0000\u0000\u0006google\u0003com\u0000\u0000\u001c\u0000\u0001�XH\u0004j\u0017\u0000�U55\u001b56�\u0003\n",
      "}��\n",
      "Ĺ=\u0014ރ\u0000�^!\u0012o��Z*����]���&z\u0017\u000e\u0019\"�%�p\u0003\"�����G��\u0005TYc��\u0004z��[�OU �N\u0005\f����+��{��\u000b|�p+\"��$�1[\u001f���D֊����&�.F�Bl��\u0000�\u0002R˪*z����H�,\t4\u0010�s�88���\u0010�JR�����q��.���\u001ck\u0010�e\u0000$�m�\u000e|2iSL�D�|}\u0013\u0002~�{�0}>2�vѓy%�w8�K=\u0010�C�\u0015eC��K��4M<�mO��PJq�<�~�\u000b�\u001chݟl$\u0001e!A3\tz�\u0000j[��olx*�u���+\u000b�&�G(/F��@p\u0000\u0011�+E5�lx��ɇ3�u��K�l3\u001b.\u0016\u0002.&\u0005�\u0010�\u0005�\u000e���6����`}2f\\z�\u0018��\u0018Ս�J�2e�����[�1E+�L��n��\u0012�(\u0000�9 �O~7\u0010���+��L��\u0010݆I@b�W\n",
      "��wmX�i\n",
      "V���%g��\u0001��6 \u0011�.\u0005�^)�v�\u0007B�+�pd�h>}x�y!J�\f �\u0005�\u0006E�m�¯�\u0005���F9��+��\u0012#�Дh�.R\u001b\u0010�u�\u0005Cv��=k���\u0006\u0001~\u0006�^��\u001b��<Mh�\n",
      "-------------------------------------------------------------\n",
      "\n",
      "Payload legible 29 (primeros 20 caracteres): E\u0000\u0002L\u0000\u0001\u0000\u0000@\u0011T[\n",
      "\u0001\n",
      "�R:q\u0010\\\u0004\f�0,�\f�0,�\f�0\f\u000b1�0\f\u000b1�0\f�B�0\f�B�0\fð\u00103\fð\u00103\f�0}��E�0�ڌy�T�hޱ6�>����LU)�0\u0003\u0003�W����n�X\u0000H�&ˑ\u001bM��\u00006\u0010�[�hU\u000b�[�\u0001c\u001f\u0017&\u000b1�0����\u000f�\u0010�@)��7\u0012�h6E\u0014\u0012h�GξJ��d\u0006�\u00113�@���v=�MնG�\u0005k�$Y�\u0019��\u000e\u0003����B�0L?�ؔ��=�\u0016Fw�Y;���<���\u0001\u0000\u0000����;��}�4\u0000\u0000\u0000\u0000IEND�B`�\n",
      "-------------------------------------------------------------\n"
     ]
    }
   ],
   "source": [
    "for i, pl in enumerate(array_payloads_legibles):\n",
    "    # Mostrar los payloads \"legibles\"\n",
    "    print(f\"\\nPayload legible {i+1} (primeros 20 caracteres):\", pl)\n",
    "    print('-------------------------------------------------------------')"
   ]
  },
  {
   "cell_type": "markdown",
   "metadata": {},
   "source": [
    "**Sí**, se encuentra un tipo de dato que no hace sentido enviarse en el puerto 53. En el primer paquete de esta conversación pueden distinguirse fragmentos típicos de un archivo **PNG**, como \"PNG\", \"IDHR\" y \"IDAT\", los cuales son elementos característicos de la cabecera y bloques de datos de una imagen PNG.\n",
    "\n",
    "El hecho de que se transporten datos que parecen parte de un **archivo** (en este caso, una imagen PNG) a través del **puerto 53**, que está destinado al **DNS**, sugiere la posibilidad de que se esté utilizando este protocolo para encapsular y transmitir datos de manera encubierta.\n",
    "\n",
    "El uso del protocolo DNS para transmitir datos de esta manera se conoce como **DNS Tunneling** y es comúnmente empleado para filtraciones de datos o establecer canales de comunicación no convencionales (Didzar, 2024).\n",
    "\n",
    "Sería conveniente analizar más a fondo este tráfico, ya que, como se demostró con el análisis estadístico y la revisión de payloads, podría tratarse de actividad maliciosa."
   ]
  },
  {
   "cell_type": "markdown",
   "metadata": {},
   "source": [
    "## Referencias"
   ]
  },
  {
   "cell_type": "markdown",
   "metadata": {},
   "source": [
    "Didzar, A. 2024. *What Is DNS Tunneling and How to Detect and Prevent Attacks*. Obtenido de https://brightsec.com/blog/dns-tunneling/ "
   ]
  }
 ],
 "metadata": {
  "kernelspec": {
   "display_name": "Python 3",
   "language": "python",
   "name": "python3"
  },
  "language_info": {
   "codemirror_mode": {
    "name": "ipython",
    "version": 3
   },
   "file_extension": ".py",
   "mimetype": "text/x-python",
   "name": "python",
   "nbconvert_exporter": "python",
   "pygments_lexer": "ipython3",
   "version": "3.11.7"
  }
 },
 "nbformat": 4,
 "nbformat_minor": 2
}
